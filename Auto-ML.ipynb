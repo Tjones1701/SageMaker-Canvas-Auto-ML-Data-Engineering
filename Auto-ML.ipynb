{
 "cells": [
  {
   "cell_type": "code",
   "execution_count": 17,
   "id": "96c5f350-f21c-4f43-a0d8-b3c46a9322f0",
   "metadata": {},
   "outputs": [],
   "source": [
    "trip_url = \"https://d37ci6vzurychx.cloudfront.net/trip-data/yellow_tripdata_2024-01.parquet\"\n",
    "zone_lookup_url = \"https://d37ci6vzurychx.cloudfront.net/misc/taxi_zone_lookup.csv\"\n",
    "# import pandas module to read the given URLs into dataframes\n",
    "import pandas as pd\n",
    "trip_df = pd.read_parquet(trip_url)\n",
    "zone_lookup_df = pd.read_csv(zone_lookup_url)"
   ]
  },
  {
   "cell_type": "code",
   "execution_count": 18,
   "id": "ca20486d-7759-4037-b111-d7fa7878c05f",
   "metadata": {},
   "outputs": [],
   "source": [
    "# Perform data cleaning on trip_df. Drop missing values in the dataframe. Remove invalid values in the tip_amount and fare_amount columns\n",
    "trip_df = trip_df.dropna()\n",
    "trip_df = trip_df[(trip_df.tip_amount > 0) & (trip_df.fare_amount > 0)]"
   ]
  },
  {
   "cell_type": "code",
   "execution_count": 19,
   "id": "8574359e-9cea-4b50-90fd-cdab735165f4",
   "metadata": {},
   "outputs": [],
   "source": [
    "# Calculate the tip percentage by dividing the tip_amount by total_amount\n",
    "trip_df['tip_percentage'] = (trip_df['tip_amount'] / trip_df['total_amount']) * 100"
   ]
  },
  {
   "cell_type": "code",
   "execution_count": 20,
   "id": "bd61cd1b-6ba4-478d-b7f4-f9087fc19d20",
   "metadata": {},
   "outputs": [],
   "source": [
    "# Merge the two DataFrames on the columns PULocationID and LocationID. Name it as trip_df\n",
    "trip_df = trip_df.merge(zone_lookup_df, left_on='PULocationID', right_on='LocationID')"
   ]
  },
  {
   "cell_type": "code",
   "execution_count": 21,
   "id": "4ae62441-c0b0-425c-bb25-00469e82e3e0",
   "metadata": {},
   "outputs": [],
   "source": [
    "# Perform one-hot encoding on the following categorical columns: VendorID, Borough, store_and_fwd_flag, and payment_type\n",
    "trip_df = pd.get_dummies(trip_df, columns=['VendorID', 'Borough', 'store_and_fwd_flag', 'payment_type'])"
   ]
  },
  {
   "cell_type": "code",
   "execution_count": 22,
   "id": "ff2a1085-4654-475e-9fdd-c33240352ec4",
   "metadata": {},
   "outputs": [],
   "source": [
    "# Drop the following columns from the preprocessed DataFrame: tpep_pickup_datetime, tpep_dropoff_datetime, Zone, PULocationID, DOLocationID\n",
    "trip_df = trip_df.drop(['tpep_pickup_datetime', 'tpep_dropoff_datetime', 'Zone', 'PULocationID', 'DOLocationID', 'tip_amount', 'total_amount'], axis=1)"
   ]
  },
  {
   "cell_type": "code",
   "execution_count": 23,
   "id": "d6ddd125-905e-46c9-8097-6e624fea9902",
   "metadata": {},
   "outputs": [
    {
     "data": {
      "text/plain": [
       "{'ResponseMetadata': {'RequestId': 'Z9J6VB4RPMWNB2Y2',\n",
       "  'HostId': '536r8J0KjtC6Sa9FnbBAoPWA42qutidiry7f1++PMuQMuKfjBFmXLa3h4n/jkP+qkae69DmSQj69YoSiitxVdFcYO6XuCrheooUGaFbBGCw=',\n",
       "  'HTTPStatusCode': 200,\n",
       "  'HTTPHeaders': {'x-amz-id-2': '536r8J0KjtC6Sa9FnbBAoPWA42qutidiry7f1++PMuQMuKfjBFmXLa3h4n/jkP+qkae69DmSQj69YoSiitxVdFcYO6XuCrheooUGaFbBGCw=',\n",
       "   'x-amz-request-id': 'Z9J6VB4RPMWNB2Y2',\n",
       "   'date': 'Wed, 16 Oct 2024 18:55:33 GMT',\n",
       "   'x-amz-server-side-encryption': 'AES256',\n",
       "   'etag': '\"8964afaf5087968634f98f3555230065\"',\n",
       "   'content-length': '0',\n",
       "   'server': 'AmazonS3'},\n",
       "  'RetryAttempts': 0},\n",
       " 'ETag': '\"8964afaf5087968634f98f3555230065\"',\n",
       " 'ServerSideEncryption': 'AES256'}"
      ]
     },
     "execution_count": 23,
     "metadata": {},
     "output_type": "execute_result"
    }
   ],
   "source": [
    "# Partition trip_df into training, validation, and test sets and save it to s3://q-workshop-<account-id>/lab4/tlc/outputs as CSV files using AWS SDK for S3\n",
    "from sklearn.model_selection import train_test_split\n",
    "train_df, val_test_df = train_test_split(trip_df, test_size=0.2, random_state=42)\n",
    "val_df, test_df = train_test_split(val_test_df, test_size=0.5, random_state=42)\n",
    "import boto3\n",
    "s3 = boto3.client('s3')\n",
    "s3.put_object(Body=train_df.to_csv(index=False), Bucket='q-workshop-196187059477', Key='lab4/tlc/output/train.csv')\n",
    "s3.put_object(Body=val_df.to_csv(index=False), Bucket='q-workshop-196187059477', Key='lab4/tlc/output/validation.csv')\n",
    "s3.put_object(Body=test_df.to_csv(index=False), Bucket='q-workshop-196187059477', Key='lab4/tlc/output/test.csv')"
   ]
  },
  {
   "cell_type": "code",
   "execution_count": 24,
   "id": "771ac2cb-43c3-4f5d-a4c5-9117db5e77e1",
   "metadata": {},
   "outputs": [],
   "source": [
    "test_2_df = test_df.drop(['tip_percentage'], axis=1)"
   ]
  },
  {
   "cell_type": "code",
   "execution_count": 25,
   "id": "be8d313e-7c8f-48de-a974-681033531ef7",
   "metadata": {},
   "outputs": [
    {
     "data": {
      "text/plain": [
       "{'ResponseMetadata': {'RequestId': '3N3391XVVVA7WYMY',\n",
       "  'HostId': 'jhSMMT3bUzcL+CULYGvELWuTT/HnMABZMTV8vKCLWGpT5sHfpYEMXaOLeAzexEzubybsMX7hpKo=',\n",
       "  'HTTPStatusCode': 200,\n",
       "  'HTTPHeaders': {'x-amz-id-2': 'jhSMMT3bUzcL+CULYGvELWuTT/HnMABZMTV8vKCLWGpT5sHfpYEMXaOLeAzexEzubybsMX7hpKo=',\n",
       "   'x-amz-request-id': '3N3391XVVVA7WYMY',\n",
       "   'date': 'Wed, 16 Oct 2024 19:25:34 GMT',\n",
       "   'x-amz-server-side-encryption': 'AES256',\n",
       "   'etag': '\"38ff544a866a3df394af98105d5b432e\"',\n",
       "   'server': 'AmazonS3',\n",
       "   'content-length': '0'},\n",
       "  'RetryAttempts': 0},\n",
       " 'ETag': '\"38ff544a866a3df394af98105d5b432e\"',\n",
       " 'ServerSideEncryption': 'AES256'}"
      ]
     },
     "execution_count": 25,
     "metadata": {},
     "output_type": "execute_result"
    }
   ],
   "source": [
    "s3.put_object(Body=test_2_df.to_csv(index=False), Bucket='q-workshop-196187059477', Key='lab4/tlc/output/test_2.csv')"
   ]
  }
 ],
 "metadata": {
  "kernelspec": {
   "display_name": "Python 3 (ipykernel)",
   "language": "python",
   "name": "python3"
  },
  "language_info": {
   "codemirror_mode": {
    "name": "ipython",
    "version": 3
   },
   "file_extension": ".py",
   "mimetype": "text/x-python",
   "name": "python",
   "nbconvert_exporter": "python",
   "pygments_lexer": "ipython3",
   "version": "3.11.9"
  }
 },
 "nbformat": 4,
 "nbformat_minor": 5
}
